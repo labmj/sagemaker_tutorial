{
 "cells": [
  {
   "cell_type": "markdown",
   "metadata": {},
   "source": [
    "# DynamoDB, RDB update query"
   ]
  },
  {
   "cell_type": "code",
   "execution_count": 1,
   "metadata": {},
   "outputs": [],
   "source": [
    "# DB ops,dev 잘 구분해서 쿼리 날리기.\n",
    "# 쿼리날리기전 테이블명 확인하고 쿼리.\n",
    "\n",
    "import json, os\n",
    "import pandas as pd\n",
    "import boto3\n",
    "from aico_lib.aico_db import DatabaseMgmt\n",
    "from aico_lib.aico_constants import DB_TYPE, STAGE_TYPE, PRODUCT_CODE\n",
    "\n",
    "os.environ['PRODUCT_CD'] = PRODUCT_CODE.aicando.name\n",
    "os.environ['STAGE_TYPE'] = STAGE_TYPE.ops.name\n",
    "\n",
    "# s3에서 평균풀이시간 가져오기\n",
    "client = boto3.client(\"s3\")\n",
    "obj = client.get_object(Bucket=\"ops-aico-analysis-config\", Key=\"common/meta_data/avg_solve_time/avg_solve_time_data.json\")\n",
    "S3_df_temp = pd.DataFrame(json.loads(obj[\"Body\"].read()))\n",
    "S3_df = S3_df_temp[['qst_id', 'target_time']]\n",
    "# dict_data = S3_df.to_dict('records')\n",
    "\n",
    "# AURORA RDB 조인데이터 가져오기\n",
    "aurora_con = DatabaseMgmt(dbType=DB_TYPE.AICO_AURORA_POSTGRE)\n",
    "select_sql = \"\"\"\n",
    "SELECT question_id, corner_code, subject_code, grade_code, semester_code FROM alps_db.question;\n",
    "\"\"\"\n",
    "corner_code_data = aurora_con.do_sql(reqSQL=select_sql)\n",
    "corner_code_data_df = pd.DataFrame(corner_code_data['data'])\n",
    "\n",
    "\n",
    "# S3, AURORA RDB JOIN\n",
    "question_analysis_df = pd.merge(S3_df, corner_code_data_df, how ='left', left_on = 'qst_id', right_on = 'question_id')\n",
    "question_analysis_df['target_time_min'] = \"\"\n",
    "question_analysis_dict = question_analysis_df.to_dict('records')"
   ]
  },
  {
   "cell_type": "code",
   "execution_count": null,
   "metadata": {},
   "outputs": [],
   "source": [
    "# AURORA RDB update\n",
    "import json, os\n",
    "from datetime import datetime\n",
    "from pytz import timezone\n",
    "import pandas as pd\n",
    "import boto3\n",
    "from aico_lib.aico_db import DatabaseMgmt\n",
    "from aico_lib.aico_constants import DB_TYPE, STAGE_TYPE, PRODUCT_CODE\n",
    "\n",
    "os.environ['PRODUCT_CD'] = PRODUCT_CODE.aicando.name\n",
    "os.environ['STAGE_TYPE'] = STAGE_TYPE.ops.name\n",
    "current_date = datetime.now(timezone(\"UTC\")).strftime(\"%Y-%m-%d %H:%M:%S\")\n",
    "\n",
    "aurora_con = DatabaseMgmt(dbType=DB_TYPE.AICO_AURORA_POSTGRE)\n",
    "insert_sql = \"\"\"\n",
    "INSERT INTO alps_db.question_analysis (product_code, question_id, target_time_analysis, target_time_min, corner_code, subject_code, grade_code, semester_code, update_datetime) VALUES(%(product_code)s, %(question_id)s, %(target_time_analysis)s, %(target_time_min)s, %(corner_code)s, %(subject_code)s, %(grade_code)s, %(semester_code)s, %(update_datetime)s) ON CONFLICT (product_code, question_id) DO UPDATE SET target_time_analysis=EXCLUDED.target_time_analysis, target_time_min=EXCLUDED.target_time_min, corner_code=EXCLUDED.corner_code, subject_code=EXCLUDED.subject_code, grade_code=EXCLUDED.grade_code, semester_code=EXCLUDED.semester_code, update_datetime=EXCLUDED.update_datetime;\n",
    "\"\"\"\n",
    "req_params=[]\n",
    "for data in question_analysis_dict:\n",
    "    req_param = {'product_code':'aicando', 'question_id':data['qst_id'], 'target_time_analysis':data['target_time'], 'target_time_min':1, 'corner_code':data['corner_code'], 'subject_code':data['subject_code'], 'grade_code':data['grade_code'], 'semester_code':data['semester_code'], 'update_datetime':current_date}\n",
    "    req_params.append(req_param)\n",
    "result = aurora_con.do_sql(reqSQL=insert_sql, reqParams=req_params)"
   ]
  },
  {
   "cell_type": "code",
   "execution_count": null,
   "metadata": {},
   "outputs": [],
   "source": [
    "# DynamoDB update\n",
    "# DB ops,dev 잘 구분해서 쿼리 날리기.\n",
    "from datetime import datetime\n",
    "from pytz import timezone\n",
    "from source.question_meta import update_question_analysis_target_time_list\n",
    "\n",
    "current_date = datetime.now(timezone(\"UTC\")).strftime(\"%Y-%m-%d %H:%M:%S\")\n",
    "\n",
    "req_params=[]\n",
    "for data in question_analysis_dict:\n",
    "\n",
    "    req_param = {'productCode':'aicando', 'questionId':data['qst_id'], 'targetTimeAnalysis':str(data['target_time']), 'targetTimeMin':str(1), 'cornerCode':data['corner_code'], 'subjectCode':data['subject_code'], 'gradeCode':data['grade_code'], 'semesterCode':data['semester_code']}\n",
    "    req_params.append(req_param)\n",
    "update_question_analysis_target_time_list(product_code=\"aicando\", data=req_params, stage=\"ops\")"
   ]
  },
  {
   "cell_type": "code",
   "execution_count": null,
   "metadata": {},
   "outputs": [],
   "source": [
    "# DynamoDB select\n",
    "import json\n",
    "import pandas as pd\n",
    "import boto3\n",
    "\n",
    "def __read_dynamo(table_nm, col_nm):\n",
    "    \"\"\"\n",
    "    description:\n",
    "        DynamoDB 에서 컬럼단위로 읽어오는 함수\n",
    "    \"\"\"\n",
    "    table = boto3.resource(\"dynamodb\").Table(table_nm)\n",
    "    kwargs = {}\n",
    "    if col_nm is not None:\n",
    "        kwargs[\"ProjectionExpression\"] = \", \".join(col_nm)\n",
    "    response = table.scan(**kwargs)\n",
    "    items = response[\"Items\"]\n",
    "    while \"LastEvaluatedKey\" in response:\n",
    "        response = table.scan(ExclusiveStartKey=response[\"LastEvaluatedKey\"], **kwargs)\n",
    "        items.extend(response[\"Items\"])\n",
    "    return pd.DataFrame(items).drop_duplicates()\n",
    "\n",
    "new_target_time = __read_dynamo(\"ops-service-aicando-mt-question-analysis\",[\"question_id\", \"analysis_target_time\", \"subject_code\", \"corner_code\", \"grade_code\", \"semester_code\"])\n",
    "new_target_time\n",
    "# new_corner_code = __read_dynamo(\"ops-service-aicando-mt-question\",[\"question_id\", \"subject_code\", \"corner_code\", \"grade_code\", \"semester_code\"])\n",
    "# total_values = pd.merge(new_target_time, new_corner_code, how ='left', left_on = 'question_id', right_on = 'question_id')"
   ]
  },
  {
   "cell_type": "code",
   "execution_count": null,
   "metadata": {},
   "outputs": [],
   "source": [
    "# 발전 : 03, 010_03, 020_03 / 메타에 존재 : 03\n",
    "# 기본 : 02, 010_02, 020_02 / 메타에 존재 : 02"
   ]
  }
 ],
 "metadata": {
  "interpreter": {
   "hash": "0a3d28715a024c94a10167def0a335fc2eb1c795f983673266a243a17c3f2266"
  },
  "kernelspec": {
   "display_name": "Python 3.8.10 ('minduz2')",
   "language": "python",
   "name": "python3"
  },
  "language_info": {
   "codemirror_mode": {
    "name": "ipython",
    "version": 3
   },
   "file_extension": ".py",
   "mimetype": "text/x-python",
   "name": "python",
   "nbconvert_exporter": "python",
   "pygments_lexer": "ipython3",
   "version": "3.8.10"
  },
  "orig_nbformat": 4
 },
 "nbformat": 4,
 "nbformat_minor": 2
}
